{
 "cells": [
  {
   "cell_type": "code",
   "execution_count": 4,
   "id": "eba38257-340d-49a8-a56b-86bccfeeb20f",
   "metadata": {},
   "outputs": [
    {
     "name": "stderr",
     "output_type": "stream",
     "text": [
      "/Users/frongza500/anaconda3/envs/newenvt/lib/python3.11/site-packages/sklearn/base.py:464: UserWarning: X does not have valid feature names, but PolynomialFeatures was fitted with feature names\n",
      "  warnings.warn(\n"
     ]
    }
   ],
   "source": [
    "import streamlit as st \n",
    "import numpy as np \n",
    "import joblib\n",
    "# Load the saved model\n",
    "model_filename = 'polynomial_regression_model2.pkl' \n",
    "loaded_model = joblib.load(model_filename)\n",
    "\n",
    "# Streamlit UI\n",
    "st.title('Polynomial Regression Model Deployment')\n",
    "\n",
    "# User input for X values\n",
    "st.header('Enter X values for prediction:')\n",
    "\n",
    "x_input = st.text_input('X Values (comma-separated)', '6,2.5,3.4,4,5.2')\n",
    "\n",
    "\n",
    "# Convert user input to a NumPy array\n",
    "try:\n",
    "    x_input = np.array([float(x.strip()) for x in x_input.split(',')]).reshape(-1, 1)\n",
    "\n",
    "except ValueError:\n",
    "    st.error('Invalid input. Please enter comma-separated numeric values.') \n",
    "    x_input = None\n",
    "\n",
    "# Predict and display results when the \"Predict\" button is clicked\n",
    "if st.button('Predict'):\n",
    "    if x_input is not None:\n",
    "        st.write('Predicted Y values:')\n",
    "\n",
    "y_pred = loaded_model.predict(x_input)\n",
    "\n",
    "for i, pred in enumerate(y_pred): \n",
    "    st.write(f'X={x_input[i][0]}, Predicted Y={pred}')"
   ]
  },
  {
   "cell_type": "code",
   "execution_count": null,
   "id": "c508d28f-3155-40fb-99bb-c3378a74434f",
   "metadata": {},
   "outputs": [],
   "source": []
  },
  {
   "cell_type": "code",
   "execution_count": null,
   "id": "ac7d4e66-3b52-4975-a452-b80475f21f63",
   "metadata": {},
   "outputs": [],
   "source": []
  }
 ],
 "metadata": {
  "kernelspec": {
   "display_name": "newenvt",
   "language": "python",
   "name": "newenvt"
  },
  "language_info": {
   "codemirror_mode": {
    "name": "ipython",
    "version": 3
   },
   "file_extension": ".py",
   "mimetype": "text/x-python",
   "name": "python",
   "nbconvert_exporter": "python",
   "pygments_lexer": "ipython3",
   "version": "3.11.5"
  }
 },
 "nbformat": 4,
 "nbformat_minor": 5
}
